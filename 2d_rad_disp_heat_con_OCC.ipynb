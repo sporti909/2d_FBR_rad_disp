{
 "cells": [
  {
   "cell_type": "markdown",
   "id": "8afacaf4-b2a4-4498-a0e9-d1ed44d0dd23",
   "metadata": {},
   "source": [
    "#  2D PBR - Dispersion model - only heat conduction - OCC\n",
    "\n",
    "## Equations\n",
    "\n",
    "The governing equation in dimensional form:\n",
    "$$\n",
    "U \\:  \\rho_f \\: c_p \\frac{\\partial T}{\\partial z} = -\\frac{\\lambda_{\\text{r}}}{r} \\frac{\\partial}{\\partial r} \\left( r \\frac{\\partial T}{\\partial r} \\right)\n",
    "$$\n",
    "\n",
    "The dimensionless form:\n",
    "$$\n",
    "\\frac{\\partial \\theta}{\\partial \\zeta} = -\\frac{1}{\\text{Pe}_R} \\: \\frac{1}{\\phi} \\: \\frac{\\partial}{\\partial \\phi} \\left( \\phi \\frac{\\partial \\theta}{\\partial \\phi} \\right)\n",
    "$$\n",
    "where:\n",
    "$$\n",
    "\\theta = \\frac{T}{T_{\\text{ref}}}, \\quad \n",
    "\\zeta = \\frac{z}{L}, \\quad \n",
    "\\phi = \\frac{r}{R}, \\quad \n",
    "\\text{Pe}_R = \\frac{\\rho_f \\: c_p \\: U \\: R}{\\lambda_{\\text{r}}}\n",
    "$$\n",
    "\n",
    "The approximation of $\\theta$ using an orthogonal polynomial expansion:\n",
    "$$\n",
    "\\tilde{\\theta} (\\phi (\\zeta) )= \\alpha_0 + \\alpha_1 \\: \\phi + \\alpha_2 \\: \\phi^2 + \\cdots + \\alpha_n \\: \\phi^n\n",
    "$$\n",
    "with the roots of the shifted Legendre polynomial as the internal collocation points:\n",
    "\n",
    "<img src=\"collocation_points.png\">\n",
    "\n",
    "the trial function for a single collocation point $i$:\n",
    "$$\n",
    "\\tilde{\\theta}_i (\\phi_{i} (\\zeta))= \\alpha_0 + \\alpha_1 \\; \\phi_i + \\alpha_2 \\; \\phi_{i}^2 + \\cdots + \\alpha_n \\; \\phi_{i}^n\n",
    "$$\n",
    "with $i=1,\\: 2, \\: ... , \\:n+1$\n",
    "\n",
    "or equivalently:\n",
    "$$\n",
    "\\tilde{\\theta}_i(\\phi (\\zeta) ) = \n",
    "\\begin{bmatrix}\n",
    "    1 & \\phi_{i} & \\phi_{i}^2 & \\cdots & \\phi_{i}^n\n",
    "\\end{bmatrix}\n",
    "\\begin{bmatrix}\n",
    "    \\alpha_0 \\\\\n",
    "    \\alpha_1 \\\\\n",
    "    \\alpha_2 \\\\\n",
    "    \\vdots \\\\\n",
    "    \\alpha_n\n",
    "\\end{bmatrix}\n",
    "$$\n",
    "\n",
    "\n"
   ]
  },
  {
   "cell_type": "markdown",
   "id": "8ae22239-00fb-4161-8f0f-82936fea4763",
   "metadata": {},
   "source": [
    "In matrix form:\n",
    "$$\n",
    "\\begin{pmatrix}\n",
    "\\theta_1 \\\\\n",
    "\\theta_2 \\\\\n",
    "\\theta_3 \\\\\n",
    "\\vdots \\\\\n",
    "\\theta_n \\\\\n",
    "\\theta_{n+1}\n",
    "\\end{pmatrix}\n",
    "=\n",
    "\\begin{pmatrix}\n",
    "\\phi_1^0 & \\phi_2^1 & \\phi_1^2 &  \\phi_1^3 & \\cdots & \\phi_1^{n-1} & \\phi_1^n \\\\\n",
    "\\phi_2^0 & \\phi_3^1 & \\phi_2^2 & \\phi_2^3 & \\cdots & \\phi_2^{n-1} & \\phi_2^n \\\\\n",
    "\\phi_3^0 & \\phi_4^1 & \\phi_3^2 & \\phi_3^3 & \\cdots & \\phi_3^{n-1} & \\phi_3^n \\\\\n",
    "\\vdots&\\vdots &\\vdots & \\vdots& \\ddots & \\vdots & \\vdots \\\\\n",
    "\\phi_n^0 & \\phi_n^1 & \\phi_n^2 & \\phi_n^3 & \\cdots & \\phi_n^{n-1} & \\phi_n^n \\\\\n",
    "\\phi_{n+1}^0 & \\phi_{n+1}^1 & \\phi_{n+1}^2 & \\phi_{n+1}^3 & \\cdots & \\phi_{n+1}^{n-1} & \\phi_{n+1}^n\n",
    "\\end{pmatrix}\n",
    "\\begin{pmatrix}\n",
    "\\alpha_0 \\\\\n",
    "\\alpha_1 \\\\\n",
    "\\alpha_2 \\\\\n",
    "\\vdots \\\\\n",
    "\\alpha_{n-1} \\\\\n",
    "\\alpha_n\n",
    "\\end{pmatrix}\n",
    "$$\n",
    "\n",
    "in Matrix notation:\n",
    "$$\\gamma = \\mathbf{Q} \\; f $$\n",
    "and thus:\n",
    "$$ f = \\mathbf{Q}^{-1} \\; \\gamma $$"
   ]
  },
  {
   "metadata": {},
   "cell_type": "markdown",
   "source": [
    "\n",
    "the first derivative at collocation point i:\n",
    "\n",
    "\\begin{equation}\n",
    "    \\frac{\\partial \\tilde{\\theta}(\\phi_i)}{\\partial \\phi} = \n",
    "    \\begin{bmatrix}\n",
    "        0 & 1 & 2\\phi_i & 3\\phi_i^2 & \\cdots & n\\ \\; \\phi_i^{n-1}\n",
    "    \\end{bmatrix}\n",
    "    \\begin{bmatrix}\n",
    "        \\alpha_0 \\\\\n",
    "        \\alpha_1 \\\\\n",
    "        \\alpha_2 \\\\\n",
    "        \\vdots \\\\\n",
    "        \\alpha_n\n",
    "    \\end{bmatrix} \n",
    "    = \\\\\n",
    "    \\begin{bmatrix}\n",
    "        0 & 1 & 2\\phi_i & 3\\phi_i^2 & \\cdots & n\\ \\; \\phi_i^{n-1}\n",
    "    \\end{bmatrix} \\; \\textbf{Q}^{-1} \\; \\gamma\n",
    "\\end{equation}\n",
    "\n",
    "\\begin{equation}\n",
    "    [s^{(i)}]^T = \n",
    "    \\begin{bmatrix}\n",
    "        0 & 1 & 2\\phi_i & 3\\phi_i^2 & \\cdots & n\\ \\; \\phi_i^{n-1}\n",
    "    \\end{bmatrix} \\; \\textbf{Q}^{-1}\n",
    "\\end{equation}\n",
    "$(n+1) \\times (n+1)$ matrix for the first derivative:\n",
    "\\begin{equation}\n",
    "    S = \\begin{bmatrix}\n",
    "        [s^{(1)}]^T \\\\\n",
    "        [s^{(2)}]^T \\\\\n",
    "        \\vdots \\\\\n",
    "        [s^{(n)}]^T \\\\\n",
    "        [s^{(n+1)}]^T\n",
    "    \\end{bmatrix}\n",
    "\\end{equation}\n"
   ],
   "id": "986a2140696a9bb6"
  },
  {
   "metadata": {},
   "cell_type": "markdown",
   "source": [
    "for the second derivative:\n",
    "\n",
    "\\begin{equation}\n",
    "    \\frac{\\partial^2 \\tilde{\\theta}(\\phi_i)}{\\partial \\phi^2} = \n",
    "    \\begin{bmatrix}\n",
    "        0 & 2 & 6\\phi_i & 12\\phi_i^2 & \\cdots & n(n-1)\\ \\; \\phi_i^{n-2}\n",
    "    \\end{bmatrix}\n",
    "    \\begin{bmatrix}\n",
    "        \\alpha_0 \\\\\n",
    "        \\alpha_1 \\\\\n",
    "        \\alpha_2 \\\\\n",
    "        \\vdots \\\\\n",
    "        \\alpha_n\n",
    "    \\end{bmatrix} \n",
    "    = \\\\\n",
    "    \\begin{bmatrix}\n",
    "        0 & 2 & 6\\phi_i & 12\\phi_i^2 & \\cdots & n(n-1)\\ \\; \\phi_i^{n-2}\n",
    "    \\end{bmatrix} \\; \\textbf{Q}^{-1} \\; \\gamma\n",
    "\\end{equation}\n",
    "\n",
    "\\begin{equation}\n",
    "    [t^{(i)}]^T = \n",
    "    \\begin{bmatrix}\n",
    "        0 & 2 & 6\\phi_i & 12\\phi_i^2 & \\cdots & n(n-1)\\ \\; \\phi_i^{n-2}\n",
    "    \\end{bmatrix} \\; \\textbf{Q}^{-1}\n",
    "\\end{equation}\n",
    "\n",
    "The $(n+1) \\times (n+1)$ matrix for the second derivative:\n",
    "\\begin{equation}\n",
    "    T = \\begin{bmatrix}\n",
    "        [t^{(1)}]^T \\\\\n",
    "        [t^{(2)}]^T \\\\\n",
    "        \\vdots \\\\\n",
    "        [t^{(n)}]^T \\\\\n",
    "        [t^{(n+1)}]^T\n",
    "    \\end{bmatrix}\n",
    "\\end{equation}\n"
   ],
   "id": "683073d5bb5c0b10"
  },
  {
   "metadata": {},
   "cell_type": "markdown",
   "source": [
    "### Discretized Differential Equation Using Orthogonal Collocation\n",
    "\n",
    "The original PDE (after applying product rule):\n",
    "$$\n",
    "\\frac{\\partial \\theta}{\\partial \\zeta} = -\\frac{1}{\\text{Pe}_R} \\left( \\frac{\\partial^2 \\theta}{\\partial \\phi^2} + \\frac{1}{\\phi} \\frac{\\partial \\theta}{\\partial \\phi} \\right)\n",
    "$$\n",
    "\n",
    "Discretized form using orthogonal collocation yields a system of ODE's. \n",
    "$$\n",
    "\\frac{d\\boldsymbol{\\theta}_i}{d\\zeta} = -\\frac{1}{\\text{Pe}_R} \\left( [t^{(i)}]^T \\: \\boldsymbol{\\theta_i}(\\zeta) + \\frac{1}{\\phi} \\: [s^{(i)}]^T \\:\\boldsymbol{\\theta_i}(\\zeta) \\right)\n",
    "$$\n",
    "or in Matrix notation:\n",
    "$$\n",
    "\\frac{d\\boldsymbol{\\theta}}{d\\zeta} = -\\frac{1}{\\text{Pe}_R} \\left( \\mathbf{T} \\: \\boldsymbol{\\theta} + \\text{diag}\\left(\\frac{1}{\\phi}\\right) \\mathbf{S} \\: \\boldsymbol{\\theta} \\right)\n",
    "$$\n",
    "\n",
    "\n",
    "Where:\n",
    "- $\\boldsymbol{\\theta}$ is the vector of values $\\theta_i(\\zeta)$ at all collocation points.  \n",
    "- $\\mathbf{T}$ is the second derivative matrix.  \n",
    "- $\\mathbf{S}$ is the first derivative matrix.  \n",
    "- $\\text{diag}\\left(\\frac{1}{\\phi}\\right)$ is a diagonal matrix containing the inverse collocation points.  \n"
   ],
   "id": "fd5d9b9796941730"
  },
  {
   "metadata": {},
   "cell_type": "markdown",
   "source": "",
   "id": "23ce5da06440b164"
  },
  {
   "metadata": {},
   "cell_type": "markdown",
   "source": [
    "### Boundary Conditions\n",
    "1. Boundary condition at \\(r = 0\\):\n",
    "   $$\n",
    "   \\frac{\\partial \\theta}{\\partial \\phi} \\Big|_{\\phi=0} = 0\n",
    "   $$\n",
    "   Which translates to:\n",
    "   $$\n",
    "   \\big[[s^{(1)}]^T \\; \\theta(\\phi_1) \\big] = 0\n",
    "   $$\n",
    "\n",
    "2. Boundary condition at \\(r = R\\):\n",
    "   $$ \n",
    "   \\dot{q} \\Big|_{r=R} = U \\big( T \\big|_{r=R} - T_\\infty \\big) = - \\lambda_r \\frac{\\partial T}{\\partial r} \\Big|_{r=R}\n",
    "   $$\n",
    "   In dimensionless form:\n",
    "   $$\n",
    "   \\frac{\\partial \\theta}{\\partial \\phi} \\Big|_{\\phi=1} = - \\frac{R \\: U}{\\lambda_r} \\theta = - \\text{Bi} \\cdot \\theta\n",
    "   $$\n",
    "   Which translates to:\n",
    "   $$\n",
    "   \\big[[s^{(n+1)}]^T \\; \\theta(\\phi_{n+1}) \\big] = - \\text{Bi} \\cdot \\theta(\\phi_{n+1})\n",
    "   $$\n",
    "\n",
    "Which gives a differential algebraic system (DAE).  \n",
    "By solving for $\\theta_1$ and $\\theta_{n+1}$ and substituting into the ODEs, the algebraic constraints can be incorporated into the ODEs and a pure ODE system maintained."
   ],
   "id": "138703a2fc7571c9"
  },
  {
   "metadata": {},
   "cell_type": "markdown",
   "source": [
    "\n",
    "Choosing $n=4$.  The collocation points are thus:\n",
    "$$\n",
    "\\begin{array}{c | c}\n",
    "i & \\phi_i \\\\\n",
    "\\hline\n",
    "1 & 0 \\\\\n",
    "2 & 0.1127 \\\\\n",
    "3 & 0.5 \\\\\n",
    "4 & 0.8873 \\\\\n",
    "5 & 1 \\\\\n",
    "\\end{array}\n",
    "$$\n",
    "\n",
    "where $\\phi_i$ for $i=2, \\: 3,\\: 4$ are the roots of the Legendre polynomial of third degree, shifted to the domain $0 < \\phi < 1$ and  \n",
    "and $\\phi_0$,  $\\phi_5$ are the boundaries."
   ],
   "id": "5f6116c236e53fd0"
  },
  {
   "metadata": {
    "ExecuteTime": {
     "end_time": "2024-12-09T19:49:31.653286Z",
     "start_time": "2024-12-09T19:49:31.640702Z"
    }
   },
   "cell_type": "code",
   "source": [
    "\n",
    "import numpy as np\n",
    "\n",
    "# n == 4;\n",
    "\n",
    "# generate shifted legendre polynomial of order 3 and its roots\n",
    "shifted_leg_poly = np.polynomial.legendre.Legendre( (0, 0, 0, 1), domain=(0,1))\n",
    "phi = shifted_leg_poly.roots()\n",
    "#print(phi)\n",
    "\n",
    "# add boundary collocation points phi_1 = 0 and phi_n+1 = 1\n",
    "phi = np.insert(phi, 0, 0)\n",
    "phi = np.append(phi, 1)\n",
    "print(phi)"
   ],
   "id": "5883679eb453a978",
   "outputs": [
    {
     "name": "stdout",
     "output_type": "stream",
     "text": [
      "[0.         0.11270167 0.5        0.88729833 1.        ]\n"
     ]
    }
   ],
   "execution_count": 57
  },
  {
   "metadata": {
    "ExecuteTime": {
     "end_time": "2024-12-09T19:49:31.746267Z",
     "start_time": "2024-12-09T19:49:31.735503Z"
    }
   },
   "cell_type": "code",
   "source": [
    "# generate Q matrix and Q inverse\n",
    "Q = np.stack( [phi**0, phi**1, phi**2, phi**3, phi**4], axis = 1)\n",
    "Q_inv = np.linalg.inv(Q)\n",
    "print(Q)"
   ],
   "id": "1163c82411eab38a",
   "outputs": [
    {
     "name": "stdout",
     "output_type": "stream",
     "text": [
      "[[1.00000000e+00 0.00000000e+00 0.00000000e+00 0.00000000e+00\n",
      "  0.00000000e+00]\n",
      " [1.00000000e+00 1.12701665e-01 1.27016654e-02 1.43149884e-03\n",
      "  1.61332303e-04]\n",
      " [1.00000000e+00 5.00000000e-01 2.50000000e-01 1.25000000e-01\n",
      "  6.25000000e-02]\n",
      " [1.00000000e+00 8.87298335e-01 7.87298335e-01 6.98568501e-01\n",
      "  6.19838668e-01]\n",
      " [1.00000000e+00 1.00000000e+00 1.00000000e+00 1.00000000e+00\n",
      "  1.00000000e+00]]\n"
     ]
    }
   ],
   "execution_count": 58
  },
  {
   "metadata": {
    "ExecuteTime": {
     "end_time": "2024-12-09T19:49:31.760737Z",
     "start_time": "2024-12-09T19:49:31.755652Z"
    }
   },
   "cell_type": "code",
   "source": [
    "# generate S matrix\n",
    "c = np.array([0, 1, 2, 3, 4])\n",
    "#c = np.atleast_2d(c)\n",
    "C = np.tile(c, (phi.size,1))\n",
    "temp = np.append(np.zeros((phi.size,1)), np.stack([phi**0, phi**1, phi**2, phi**3], axis = 1), axis = 1)\n",
    "C = C * temp\n",
    "S = C @ Q_inv\n",
    "print(S)"
   ],
   "id": "348453b4fb5429b7",
   "outputs": [
    {
     "name": "stdout",
     "output_type": "stream",
     "text": [
      "[[-13.          14.78830558  -2.66666667   1.87836109  -1.        ]\n",
      " [ -5.32379001   3.87298335   2.06559112  -1.29099445   0.67620999]\n",
      " [  1.5         -3.22748612   0.           3.22748612  -1.5       ]\n",
      " [ -0.67620999   1.29099445  -2.06559112  -3.87298335   5.32379001]\n",
      " [  1.          -1.87836109   2.66666667 -14.78830558  13.        ]]\n"
     ]
    }
   ],
   "execution_count": 59
  },
  {
   "metadata": {
    "ExecuteTime": {
     "end_time": "2024-12-09T19:49:31.785666Z",
     "start_time": "2024-12-09T19:49:31.781451Z"
    }
   },
   "cell_type": "code",
   "source": [
    "# generate T matrix\n",
    "d = [0, 0, 2, 6, 12]\n",
    "D = np.tile(d, (phi.size, 1))\n",
    "temp2 = np.append(np.zeros((phi.size,2)), np.stack([phi**0, phi**1, phi**2], axis = 1), axis = 1)\n",
    "D = D * temp2\n",
    "T = D @ Q_inv\n",
    "print(T)\n"
   ],
   "id": "c2d92a8778b3f148",
   "outputs": [
    {
     "name": "stdout",
     "output_type": "stream",
     "text": [
      "[[  84.         -122.0631668    58.66666667  -44.60349987   24.        ]\n",
      " [  53.23790008  -73.33333333   26.66666667  -13.33333333    6.76209992]\n",
      " [  -6.           16.66666667  -21.33333333   16.66666667   -6.        ]\n",
      " [   6.76209992  -13.33333333   26.66666667  -73.33333333   53.23790008]\n",
      " [  24.          -44.60349987   58.66666667 -122.0631668    84.        ]]\n"
     ]
    }
   ],
   "execution_count": 60
  }
 ],
 "metadata": {
  "kernelspec": {
   "display_name": "Python 3 (ipykernel)",
   "language": "python",
   "name": "python3"
  },
  "language_info": {
   "codemirror_mode": {
    "name": "ipython",
    "version": 3
   },
   "file_extension": ".py",
   "mimetype": "text/x-python",
   "name": "python",
   "nbconvert_exporter": "python",
   "pygments_lexer": "ipython3",
   "version": "3.11.9"
  }
 },
 "nbformat": 4,
 "nbformat_minor": 5
}
