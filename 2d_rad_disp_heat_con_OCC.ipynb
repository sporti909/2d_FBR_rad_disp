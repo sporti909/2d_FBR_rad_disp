{
 "cells": [
  {
   "cell_type": "markdown",
   "id": "8afacaf4-b2a4-4498-a0e9-d1ed44d0dd23",
   "metadata": {},
   "source": [
    "#  2D Plug flow with external cooling, no reaction, OCC\n",
    "\n",
    "\n",
    "<img src=\"point_numbering.png\">\n",
    "\n",
    "In general, if we have $N+1$ points, we can find an $N$th order polynomial that passes though all those points.  So an $N$th order polynomial has the form,\n",
    "\n",
    "$$y = \\theta_0 + \\theta_1  x +  \\theta_2 x^2 + \\theta_3 x^3 + \\theta_4 x^4 + \\theta_5 x^5.$$\n",
    "\n",
    "So, if the polynomial passes though all the points, we will have $N+1$ equations and an equal number of unknowns.\n",
    "\n",
    "\\begin{array}{lll}\n",
    "y_1 & = & \\theta_0 + \\theta_1  x_1 +  \\theta_2 x_1^2 + \\theta_3 x_1^3 + \\theta_4 x_1^4 + \\theta_5 x_1^5 \\\\\n",
    "y_2 & = & \\theta_0 + \\theta_1  x_2 +  \\theta_2 x_2^2 + \\theta_3 x_2^3 + \\theta_4 x_2^4 + \\theta_5 x_2^5 \\\\\n",
    "y_3 & = & \\theta_0 + \\theta_1  x_3 +  \\theta_2 x_3^2 + \\theta_3 x_3^3 + \\theta_4 x_3^4 + \\theta_5 x_3^5 \\\\\n",
    "    &    &   \\qquad\\qquad\\qquad\\vdots \\\\\n",
    "y_i & = & \\theta_0 + \\theta_1  x_i +  \\theta_2 x_i^2 + \\theta_3 x_i^3 + \\theta_4 x_i^4 + \\theta_5 x_i^5 \\\\\n",
    "y_{i+1} & = & \\theta_0 + \\theta_1  x_{i+1} +  \\theta_2 x_{i+2}^2 + \\theta_3 x_{i+3}^3 + \\theta_4 x_{i_1}^4 + \\theta_5 x_{i+1}^5 \\\\\n",
    "    & & \\qquad\\qquad\\qquad\\vdots \\\\\n",
    "y_N & = & \\theta_0 + \\theta_1  x_N +  \\theta_2 x_N^2 + \\theta_3 xN5^3 + \\theta_4 x_N^4 + \\theta_5 x_N^5 \\\\\n",
    "y_{N+1} & = & \\theta_0 + \\theta_1  x_{N+1} +  \\theta_2 x_{N+1}^2 + \\theta_3 x_{N+1}^3 + \\theta_4 x_{N+1}^4 + \\theta_5 x_{N+1}^5\n",
    "\\end{array}"
   ]
  },
  {
   "cell_type": "markdown",
   "id": "8ae22239-00fb-4161-8f0f-82936fea4763",
   "metadata": {},
   "source": []
  },
  {
   "cell_type": "code",
   "execution_count": null,
   "id": "90f2efc1-911f-42ec-8b4e-a809d9f62493",
   "metadata": {},
   "outputs": [],
   "source": []
  }
 ],
 "metadata": {
  "kernelspec": {
   "display_name": "Python 3 (ipykernel)",
   "language": "python",
   "name": "python3"
  },
  "language_info": {
   "codemirror_mode": {
    "name": "ipython",
    "version": 3
   },
   "file_extension": ".py",
   "mimetype": "text/x-python",
   "name": "python",
   "nbconvert_exporter": "python",
   "pygments_lexer": "ipython3",
   "version": "3.11.9"
  }
 },
 "nbformat": 4,
 "nbformat_minor": 5
}
